{
 "cells": [
  {
   "cell_type": "code",
   "execution_count": 1,
   "metadata": {},
   "outputs": [
    {
     "name": "stderr",
     "output_type": "stream",
     "text": [
      "/home/jyang4/miniconda3/envs/dclo/lib/python3.10/site-packages/tqdm/auto.py:22: TqdmWarning: IProgress not found. Please update jupyter and ipywidgets. See https://ipywidgets.readthedocs.io/en/stable/user_install.html\n",
      "  from .autonotebook import tqdm as notebook_tqdm\n"
     ]
    }
   ],
   "source": [
    "from Bio.Seq import Seq\n",
    "from src.oracle import *\n",
    "from src.encoding_utils import *\n",
    "import json"
   ]
  },
  {
   "cell_type": "code",
   "execution_count": 2,
   "metadata": {},
   "outputs": [
    {
     "data": {
      "text/plain": [
       "array([[1., 0., 1., 0., 1., 1., 0., 1., 1., 1., 1., 0., 1., 1., 1., 0.,\n",
       "        1., 1., 0., 1., 1., 1., 1., 1., 1., 0., 1., 0., 0., 0., 1., 0.,\n",
       "        0., 0., 0., 1., 1., 1., 1., 1., 1., 1., 0., 1., 1., 1., 0., 1.]])"
      ]
     },
     "execution_count": 2,
     "metadata": {},
     "output_type": "execute_result"
    }
   ],
   "source": [
    "mixed_codons = 'RBHWYHKVBKKS'\n",
    "mixed_codons2 = 'RHVVHNRGTNHH'\n",
    "\n",
    "#VDSWYARRSGTT (Score: 143925, Counts:  206,  Diversity:  220)\n",
    "#GDGMRCGSMABV (Score: 143408, Counts:   98,  Diversity:  110)\n",
    "#ASMYKKDGTWTR (Score: 148035, Counts:  113,  Diversity:  114)\n",
    "\n",
    "#new scoring method below:\n",
    "#VNDNRTRGWDBY (Score: 124780, Counts:  275,  Diversity:  351)\n",
    "#SWWDNHRSYRWB (Score: 118372, Counts:  267,  Diversity:  327)\n",
    "#NNBNKNGSNDBN (Score: 120569, Counts:  286,  Diversity:  331)\n",
    "\n",
    "\n",
    "seq2encoding(mixed_codons2)"
   ]
  },
  {
   "cell_type": "code",
   "execution_count": 17,
   "metadata": {},
   "outputs": [
    {
     "name": "stderr",
     "output_type": "stream",
     "text": [
      "Predicting through Oracle: 100%|██████████| 80/80 [00:02<00:00, 34.09it/s]\n"
     ]
    },
    {
     "name": "stdout",
     "output_type": "stream",
     "text": [
      "(array([[65827.72483724,    89.3875    ,   317.6625    ]]), array([[8.31501885e+06, 7.77123437e+01, 5.75235937e+01]]))\n"
     ]
    }
   ],
   "source": [
    "with open('/home/jyang4/repos/DCLO/configs/test.json', 'r') as f:\n",
    "    config = json.load(f)\n",
    "\n",
    "oracle = Oracle(config['data_config'], config['opt_config'])\n",
    "print(oracle.predict(seq2encoding('NNNNNNNNNNNN')))"
   ]
  },
  {
   "cell_type": "code",
   "execution_count": 19,
   "metadata": {},
   "outputs": [
    {
     "data": {
      "text/plain": [
       "7.615773105863909"
      ]
     },
     "execution_count": 19,
     "metadata": {},
     "output_type": "execute_result"
    }
   ],
   "source": [
    "np.sqrt(58)"
   ]
  },
  {
   "cell_type": "code",
   "execution_count": null,
   "metadata": {},
   "outputs": [],
   "source": []
  }
 ],
 "metadata": {
  "kernelspec": {
   "display_name": "Python 3.10.4 ('dclo')",
   "language": "python",
   "name": "python3"
  },
  "language_info": {
   "codemirror_mode": {
    "name": "ipython",
    "version": 3
   },
   "file_extension": ".py",
   "mimetype": "text/x-python",
   "name": "python",
   "nbconvert_exporter": "python",
   "pygments_lexer": "ipython3",
   "version": "3.10.4"
  },
  "orig_nbformat": 4,
  "vscode": {
   "interpreter": {
    "hash": "fc6af8080266c6937e5e2ab72e3cc3040c76e7d4e7b41e162272e5659d121365"
   }
  }
 },
 "nbformat": 4,
 "nbformat_minor": 2
}
